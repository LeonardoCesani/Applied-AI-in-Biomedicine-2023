{
 "nbformat": 4,
 "nbformat_minor": 0,
 "metadata": {
  "colab": {
   "provenance": [],
   "collapsed_sections": [
    "HU78Oihd7k72",
    "wdACgYqjDykl",
    "rt9pWazZD6Ux"
   ]
  },
  "kernelspec": {
   "name": "python3",
   "display_name": "Python 3"
  },
  "language_info": {
   "name": "python"
  }
 },
 "cells": [
  {
   "cell_type": "markdown",
   "source": [
    "# Import Libraries"
   ],
   "metadata": {
    "id": "L-D6ktSE7ptC"
   }
  },
  {
   "cell_type": "code",
   "source": [
    "import numpy as np\n",
    "import pandas as pd\n",
    "import matplotlib.pyplot as plt\n",
    "import seaborn as sns\n",
    "import json\n",
    "import scipy.stats as stats\n",
    "from scipy.stats import t\n",
    "import math\n",
    "colors_palette = [\"#024059\", \"#0388A6\", \"#8C031C\"]\n",
    "sns.set_palette(sns.color_palette(colors_palette))"
   ],
   "metadata": {
    "id": "PMMj3LjW7f2z"
   },
   "execution_count": null,
   "outputs": []
  },
  {
   "cell_type": "markdown",
   "source": [
    "# Functions"
   ],
   "metadata": {
    "id": "XAmcfahEvi27"
   }
  },
  {
   "cell_type": "code",
   "source": [
    "def confidence_intervals(stats, confidence_level = .95, df = 9, k = 10):\n",
    "\n",
    "  alpha = (1 - confidence_level) / 2\n",
    "  quantile_95 = t.ppf(1 - alpha, df)\n",
    "\n",
    "  confidence_intervals = []\n",
    "  for stat in stats:\n",
    "    mean = np.mean(stat)\n",
    "    std = np.std(stat)\n",
    "    ci = {'Inf': mean - std * quantile_95 /math.sqrt(k),\n",
    "          'Mean': mean,\n",
    "          'Sup': mean + std * quantile_95 /math.sqrt(k)}\n",
    "    confidence_intervals.append(ci)\n",
    "\n",
    "  return(confidence_intervals)\n"
   ],
   "metadata": {
    "id": "1j5lLqs8E7Yd"
   },
   "execution_count": null,
   "outputs": []
  },
  {
   "cell_type": "markdown",
   "source": [
    "# Confidence Intervals for the Normal vs Abnormal Model"
   ],
   "metadata": {
    "id": "HE2e0_MOCkCv"
   }
  },
  {
   "cell_type": "code",
   "source": [
    "f = open('./Metrics/metrics_cv_nor_abn_model.json')\n",
    "norm_abno = json.load(f)\n",
    "f.close()"
   ],
   "metadata": {
    "id": "l77qTkvC7ws1"
   },
   "execution_count": null,
   "outputs": []
  },
  {
   "cell_type": "code",
   "source": [
    "# Get confusion matrix\n",
    "confusion_matrices = []\n",
    "for fold in norm_abno['folds']:\n",
    "  confusion_matrices.append(np.array(fold['conf_matrix']).T)"
   ],
   "metadata": {
    "id": "Taj2czp28h8Z"
   },
   "execution_count": null,
   "outputs": []
  },
  {
   "cell_type": "markdown",
   "source": [
    "## Confidence Interval for the Error"
   ],
   "metadata": {
    "id": "wdACgYqjDykl"
   }
  },
  {
   "cell_type": "code",
   "source": [
    "# Get error rates for each fold\n",
    "error_N = []\n",
    "error_A = []\n",
    "for conf_mat in confusion_matrices:\n",
    "  error_N.append(conf_mat[0][1]/(conf_mat[0][1] + conf_mat[0][0]))\n",
    "  error_A.append(conf_mat[1][0]/(conf_mat[1][0] + conf_mat[1][1]))"
   ],
   "metadata": {
    "id": "99zCGmU-9_bF"
   },
   "execution_count": null,
   "outputs": []
  },
  {
   "cell_type": "code",
   "source": [
    "conf_error_N, conf_error_A = confidence_intervals([error_N, error_A])\n",
    "\n",
    "print(f'The confidence interval for the mean percentage error of the normal class with confidence 95% is:\\n{conf_error_N}')\n",
    "print(f'The confidence interval for the mean percentage error of the abnormal class with confidence 95% is:\\n{conf_error_A}')"
   ],
   "metadata": {
    "colab": {
     "base_uri": "https://localhost:8080/"
    },
    "id": "1a4Bdj2fF8h6",
    "executionInfo": {
     "status": "ok",
     "timestamp": 1706546860556,
     "user_tz": -60,
     "elapsed": 3,
     "user": {
      "displayName": "leonardo cesani",
      "userId": "06996620850007426608"
     }
    },
    "outputId": "3f1cd5c1-77da-4938-e1bb-8d8d51970185"
   },
   "execution_count": null,
   "outputs": [
    {
     "output_type": "stream",
     "name": "stdout",
     "text": [
      "The confidence interval for the mean percentage error of the normal class with confidence 95% is:\n",
      "{'Inf': 0.006673822895830436, 'Mean': 0.009994855551746696, 'Sup': 0.013315888207662954}\n",
      "The confidence interval for the mean percentage error of the abnormal class with confidence 95% is:\n",
      "{'Inf': 0.14603957076539364, 'Mean': 0.23008788466954955, 'Sup': 0.31413619857370545}\n"
     ]
    }
   ]
  },
  {
   "cell_type": "markdown",
   "source": [
    "## Confidence Interval for the Precision"
   ],
   "metadata": {
    "id": "rt9pWazZD6Ux"
   }
  },
  {
   "cell_type": "code",
   "source": [
    "# Get error rates for each fold\n",
    "precision_N = []\n",
    "precision_A = []\n",
    "for conf_mat in confusion_matrices:\n",
    "  precision_N.append(conf_mat[0][0]/(conf_mat[1][0] + conf_mat[0][0]))\n",
    "  precision_A.append(conf_mat[1][1]/(conf_mat[0][1] + conf_mat[1][1]))"
   ],
   "metadata": {
    "id": "dDYfJ2alD6U1"
   },
   "execution_count": null,
   "outputs": []
  },
  {
   "cell_type": "code",
   "source": [
    "conf_precision_N, conf_precision_A = confidence_intervals([precision_N, precision_A])\n",
    "\n",
    "print(f'The confidence interval for the mean percentage error of the normal class with confidence 95% is:\\n{conf_precision_N}')\n",
    "print(f'The confidence interval for the mean percentage error of the abnormal class with confidence 95% is:\\n{conf_precision_A}')"
   ],
   "metadata": {
    "colab": {
     "base_uri": "https://localhost:8080/"
    },
    "id": "iOTRHa_aGjre",
    "executionInfo": {
     "status": "ok",
     "timestamp": 1706546860556,
     "user_tz": -60,
     "elapsed": 2,
     "user": {
      "displayName": "leonardo cesani",
      "userId": "06996620850007426608"
     }
    },
    "outputId": "a67252c3-0861-456d-f63f-dd03b06ae359"
   },
   "execution_count": null,
   "outputs": [
    {
     "output_type": "stream",
     "name": "stdout",
     "text": [
      "The confidence interval for the mean percentage error of the normal class with confidence 95% is:\n",
      "{'Inf': 0.9712976278928871, 'Mean': 0.97878365055005, 'Sup': 0.9862696732072129}\n",
      "The confidence interval for the mean percentage error of the abnormal class with confidence 95% is:\n",
      "{'Inf': 0.8590382974328163, 'Mean': 0.8842939890956929, 'Sup': 0.9095496807585695}\n"
     ]
    }
   ]
  },
  {
   "cell_type": "markdown",
   "source": [
    "## Confidence Interval for the Recall"
   ],
   "metadata": {
    "id": "MYTILS8nE1L6"
   }
  },
  {
   "cell_type": "code",
   "source": [
    "# Get error rates for each fold\n",
    "recall_N = []\n",
    "recall_A = []\n",
    "for conf_mat in confusion_matrices:\n",
    "  recall_N.append(conf_mat[0][0]/(conf_mat[0][1] + conf_mat[0][0]))\n",
    "  recall_A.append(conf_mat[1][1]/(conf_mat[1][0] + conf_mat[1][1]))"
   ],
   "metadata": {
    "id": "dSxr0OuiE1L8"
   },
   "execution_count": null,
   "outputs": []
  },
  {
   "cell_type": "code",
   "source": [
    "conf_recall_N, conf_recall_A = confidence_intervals([recall_N, recall_A])\n",
    "\n",
    "print(f'The confidence interval for the mean percentage error of the normal class with confidence 95% is:\\n{conf_recall_N}')\n",
    "print(f'The confidence interval for the mean percentage error of the abnormal class with confidence 95% is:\\n{conf_recall_A}')"
   ],
   "metadata": {
    "colab": {
     "base_uri": "https://localhost:8080/"
    },
    "id": "PN0cCYQUGTtp",
    "executionInfo": {
     "status": "ok",
     "timestamp": 1706546860556,
     "user_tz": -60,
     "elapsed": 2,
     "user": {
      "displayName": "leonardo cesani",
      "userId": "06996620850007426608"
     }
    },
    "outputId": "686d4284-ac75-4f53-ab9b-efe7ace9c4c9"
   },
   "execution_count": null,
   "outputs": [
    {
     "output_type": "stream",
     "name": "stdout",
     "text": [
      "The confidence interval for the mean percentage error of the normal class with confidence 95% is:\n",
      "{'Inf': 0.986684111792337, 'Mean': 0.9900051444482532, 'Sup': 0.9933261771041694}\n",
      "The confidence interval for the mean percentage error of the abnormal class with confidence 95% is:\n",
      "{'Inf': 0.6858638014262947, 'Mean': 0.7699121153304506, 'Sup': 0.8539604292346065}\n"
     ]
    }
   ]
  },
  {
   "cell_type": "markdown",
   "source": [
    "# Confidence Intervals for the Bagging Model"
   ],
   "metadata": {
    "id": "LFqnZsZ_Jgah"
   }
  },
  {
   "cell_type": "code",
   "source": [
    "f = open('./Metrics/bagging_cv.json')\n",
    "bagging = json.load(f)\n",
    "f.close()"
   ],
   "metadata": {
    "id": "T_C-yuwvJfta"
   },
   "execution_count": null,
   "outputs": []
  },
  {
   "cell_type": "code",
   "source": [
    "# Get confusion matrix\n",
    "confusion_matrices = []\n",
    "for fold in bagging:\n",
    "  confusion_matrices.append(np.array(fold['conf_matrix']).T)"
   ],
   "metadata": {
    "id": "l3bhTQ2oJse4"
   },
   "execution_count": null,
   "outputs": []
  },
  {
   "cell_type": "markdown",
   "source": [
    "## Confidence Intervals for the Error"
   ],
   "metadata": {
    "id": "pLvFmWj2J68Z"
   }
  },
  {
   "cell_type": "code",
   "source": [
    "error_N = []\n",
    "error_V = []\n",
    "error_S = []\n",
    "for conf_mat in confusion_matrices:\n",
    "  error_N.append((conf_mat[0][1]+ conf_mat[0][2])/(conf_mat[0][2] + conf_mat[0][1] + conf_mat[0][0]))\n",
    "  error_V.append((conf_mat[1][0]+ conf_mat[1][2])/(conf_mat[1][2] + conf_mat[1][1] + conf_mat[1][0]))\n",
    "  error_S.append((conf_mat[2][0]+ conf_mat[2][1])/(conf_mat[2][2] + conf_mat[2][1] + conf_mat[2][0]))"
   ],
   "metadata": {
    "id": "vABZ6TTIJ6b_"
   },
   "execution_count": null,
   "outputs": []
  },
  {
   "cell_type": "code",
   "source": [
    "conf_error_N, conf_error_V, conf_error_S = confidence_intervals([error_N, error_V, error_S])\n",
    "\n",
    "print(f'The confidence interval for the mean percentage error of the normal class with confidence 95% is:\\n{conf_error_N}')\n",
    "print(f'The confidence interval for the mean percentage error of the abnormal class with confidence 95% is:\\n{conf_error_V}')\n",
    "print(f'The confidence interval for the mean percentage error of the abnormal class with confidence 95% is:\\n{conf_error_S}')"
   ],
   "metadata": {
    "colab": {
     "base_uri": "https://localhost:8080/"
    },
    "id": "v5amwhIhJ3yr",
    "executionInfo": {
     "status": "ok",
     "timestamp": 1706547748416,
     "user_tz": -60,
     "elapsed": 3,
     "user": {
      "displayName": "leonardo cesani",
      "userId": "06996620850007426608"
     }
    },
    "outputId": "ca2d6e0e-f3be-4aef-c0f2-fb61c9908258"
   },
   "execution_count": null,
   "outputs": [
    {
     "output_type": "stream",
     "name": "stdout",
     "text": [
      "The confidence interval for the mean percentage error of the normal class with confidence 95% is:\n",
      "{'Inf': 0.005065797579022469, 'Mean': 0.029214404296780867, 'Sup': 0.05336301101453926}\n",
      "The confidence interval for the mean percentage error of the abnormal class with confidence 95% is:\n",
      "{'Inf': 0.319931911763137, 'Mean': 0.42686362069787076, 'Sup': 0.5337953296326046}\n",
      "The confidence interval for the mean percentage error of the abnormal class with confidence 95% is:\n",
      "{'Inf': 0.2915703204812004, 'Mean': 0.38677487247326503, 'Sup': 0.48197942446532965}\n"
     ]
    }
   ]
  },
  {
   "cell_type": "markdown",
   "source": [
    "## Confidence Intervals for the Precision"
   ],
   "metadata": {
    "id": "OcgyJxrfKfic"
   }
  },
  {
   "cell_type": "code",
   "source": [
    "precision_N = []\n",
    "precision_V = []\n",
    "precision_S = []\n",
    "for conf_mat in confusion_matrices:\n",
    "  precision_N.append(conf_mat[0][0]/(conf_mat[2][0] + conf_mat[1][0] + conf_mat[0][0]))\n",
    "  precision_V.append(conf_mat[1][1]/(conf_mat[2][1] + conf_mat[1][1] + conf_mat[0][1]))\n",
    "  precision_S.append(conf_mat[2][2]/(conf_mat[2][2] + conf_mat[1][2] + conf_mat[0][2]))"
   ],
   "metadata": {
    "id": "MHYuQgHwKiq9"
   },
   "execution_count": null,
   "outputs": []
  },
  {
   "cell_type": "code",
   "source": [
    "conf_precision_N, conf_precision_V, conf_precision_S = confidence_intervals([precision_N, precision_V, precision_S])\n",
    "\n",
    "print(f'The confidence interval for the precision of the N class with confidence 95% is:\\n{conf_precision_N}')\n",
    "print(f'The confidence interval for the precision of the V class with confidence 95% is:\\n{conf_precision_V}')\n",
    "print(f'The confidence interval for the precision of the S class with confidence 95% is:\\n{conf_precision_S}')"
   ],
   "metadata": {
    "colab": {
     "base_uri": "https://localhost:8080/"
    },
    "id": "_H4xBrLwKiq_",
    "executionInfo": {
     "status": "ok",
     "timestamp": 1706548878884,
     "user_tz": -60,
     "elapsed": 2,
     "user": {
      "displayName": "leonardo cesani",
      "userId": "06996620850007426608"
     }
    },
    "outputId": "02d14a03-6a90-44fe-937c-0a1b4c660075"
   },
   "execution_count": null,
   "outputs": [
    {
     "output_type": "stream",
     "name": "stdout",
     "text": [
      "The confidence interval for the precision of the normal class with confidence 95% is:\n",
      "{'Inf': 0.9856390594147243, 'Mean': 0.9887855909425605, 'Sup': 0.9919321224703966}\n",
      "The confidence interval for the precision of the abnormal class with confidence 95% is:\n",
      "{'Inf': 0.60106381134041, 'Mean': 0.6776620673907804, 'Sup': 0.7542603234411508}\n",
      "The confidence interval for the precision of the abnormal class with confidence 95% is:\n",
      "{'Inf': 0.31959968465418276, 'Mean': 0.4214497646373566, 'Sup': 0.5232998446205305}\n"
     ]
    }
   ]
  },
  {
   "cell_type": "markdown",
   "source": [
    "## Confidence Intervals for the Recall"
   ],
   "metadata": {
    "id": "GI38yKBKOusK"
   }
  },
  {
   "cell_type": "code",
   "source": [
    "recall_N = []\n",
    "recall_V = []\n",
    "recall_S = []\n",
    "for conf_mat in confusion_matrices:\n",
    "  recall_N.append(conf_mat[0][0]/(conf_mat[0][2] + conf_mat[0][1] + conf_mat[0][0]))\n",
    "  recall_V.append(conf_mat[1][1]/(conf_mat[1][2] + conf_mat[1][1] + conf_mat[1][0]))\n",
    "  recall_S.append(conf_mat[2][2]/(conf_mat[2][2] + conf_mat[2][1] + conf_mat[2][0]))"
   ],
   "metadata": {
    "id": "4yvRhH-lOusQ"
   },
   "execution_count": null,
   "outputs": []
  },
  {
   "cell_type": "code",
   "source": [
    "conf_recall_N, conf_recall_V, conf_recall_S = confidence_intervals([recall_N, recall_V, recall_S])\n",
    "\n",
    "print(f'The confidence interval for the recall of the normal class with confidence 95% is:\\n{conf_recall_N}')\n",
    "print(f'The confidence interval for the recall of the abnormal class with confidence 95% is:\\n{conf_recall_V}')\n",
    "print(f'The confidence interval for the recall of the abnormal class with confidence 95% is:\\n{conf_recall_S}')"
   ],
   "metadata": {
    "colab": {
     "base_uri": "https://localhost:8080/"
    },
    "executionInfo": {
     "status": "ok",
     "timestamp": 1706548949648,
     "user_tz": -60,
     "elapsed": 2,
     "user": {
      "displayName": "leonardo cesani",
      "userId": "06996620850007426608"
     }
    },
    "outputId": "35c29732-cd82-4e1a-efd7-d089dd93b05e",
    "id": "CQtthMAmOusR"
   },
   "execution_count": null,
   "outputs": [
    {
     "output_type": "stream",
     "name": "stdout",
     "text": [
      "The confidence interval for the recall of the normal class with confidence 95% is:\n",
      "{'Inf': 0.9466369889854607, 'Mean': 0.9707855957032191, 'Sup': 0.9949342024209775}\n",
      "The confidence interval for the recall of the abnormal class with confidence 95% is:\n",
      "{'Inf': 0.46620467036739527, 'Mean': 0.573136379302129, 'Sup': 0.6800680882368628}\n",
      "The confidence interval for the recall of the abnormal class with confidence 95% is:\n",
      "{'Inf': 0.5180205755346703, 'Mean': 0.613225127526735, 'Sup': 0.7084296795187996}\n"
     ]
    }
   ]
  },
  {
   "cell_type": "markdown",
   "source": [
    "# General Metric"
   ],
   "metadata": {
    "id": "LZ590NhmPrIh"
   }
  },
  {
   "cell_type": "code",
   "source": [
    "# Get confusion matrix\n",
    "confusion_matrices = []\n",
    "for fold in bagging:\n",
    "  confusion_matrices.append(np.array(fold['conf_matrix']).T)"
   ],
   "metadata": {
    "id": "f1tlnk8fQ1dI"
   },
   "execution_count": null,
   "outputs": []
  },
  {
   "cell_type": "code",
   "source": [
    "sum_confusion_matrix = np.sum(confusion_matrices, axis=0)\n",
    "sum_along_rows = np.sum(sum_confusion_matrix, axis=1)\n",
    "sum_tot = np.sum(sum_along_rows, axis = 0)"
   ],
   "metadata": {
    "id": "0JVG80sWPkPu"
   },
   "execution_count": null,
   "outputs": []
  },
  {
   "cell_type": "code",
   "source": [
    "mean_precision_N = conf_precision_N['Mean']\n",
    "mean_precision_V = conf_precision_V['Mean']\n",
    "mean_precision_S = conf_precision_S['Mean']"
   ],
   "metadata": {
    "id": "-7WsFbSnQ77h"
   },
   "execution_count": null,
   "outputs": []
  },
  {
   "cell_type": "code",
   "source": [
    "total_precision = (mean_precision_N * sum_along_rows[0] + mean_precision_V * sum_along_rows[1] + mean_precision_S * sum_along_rows[2]) / sum_tot\n",
    "print(f'The total precision of the model is {total_precision}')"
   ],
   "metadata": {
    "colab": {
     "base_uri": "https://localhost:8080/"
    },
    "id": "k8_5nM_yRf7Q",
    "executionInfo": {
     "status": "ok",
     "timestamp": 1706549571850,
     "user_tz": -60,
     "elapsed": 274,
     "user": {
      "displayName": "leonardo cesani",
      "userId": "06996620850007426608"
     }
    },
    "outputId": "c75dda16-59c1-4fb9-a908-539e577b677f"
   },
   "execution_count": null,
   "outputs": [
    {
     "output_type": "stream",
     "name": "stdout",
     "text": [
      "The total precision of the model is 0.9471888659633202\n"
     ]
    }
   ]
  },
  {
   "cell_type": "code",
   "source": [
    "total_precision_abnormal = (mean_precision_V * sum_along_rows[1] + mean_precision_S * sum_along_rows[2]) / (sum_along_rows[1] + sum_along_rows[2])\n",
    "print(f'The total precision for the abnormal samples is {total_precision_abnormal}')"
   ],
   "metadata": {
    "colab": {
     "base_uri": "https://localhost:8080/"
    },
    "id": "_nLgrm7zSnHx",
    "executionInfo": {
     "status": "ok",
     "timestamp": 1706549774191,
     "user_tz": -60,
     "elapsed": 2,
     "user": {
      "displayName": "leonardo cesani",
      "userId": "06996620850007426608"
     }
    },
    "outputId": "dbe98630-6b2b-468d-b3f2-3ee6fb7d346a"
   },
   "execution_count": null,
   "outputs": [
    {
     "output_type": "stream",
     "name": "stdout",
     "text": [
      "The total precision for the abnormal samples is 0.5736488402192523\n"
     ]
    }
   ]
  },
  {
   "cell_type": "markdown",
   "source": [
    "# Plots"
   ],
   "metadata": {
    "id": "QOMULakcVTJf"
   }
  },
  {
   "cell_type": "code",
   "source": [
    "cconfidence_intervals = [conf_error_N, conf_error_A, conf_precision_N, conf_precision_A, conf_recall_N, conf_recall_A]\n",
    "labels = ['Error class N', 'Error class A', 'Precision class N', 'Precision class A', 'Recall class N', 'Recall class A']\n",
    "\n",
    "# Plot all six intervals in a single plot with labels on the x-axis\n",
    "fig, ax = plt.subplots(figsize=(10, 6))\n",
    "\n",
    "x_positions = range(len(confidence_intervals))\n",
    "for i, (conf_interval, label) in enumerate(zip(confidence_intervals, labels)):\n",
    "    ax.scatter([i], [conf_interval['Mean']], color=colors_palette[0], marker='o')\n",
    "    ax.vlines([i], conf_interval['Inf'], conf_interval['Sup'], color=colors_palette[0], linewidth=2)\n",
    "\n",
    "ax.set_xticks(x_positions)\n",
    "ax.set_xticklabels(labels, rotation=45, ha='right')  # Rotate and adjust the alignment for better visibility\n",
    "ax.set_title('Comprehensive Plot for Confidence Intervals')\n",
    "ax.set_ylabel('Values')\n",
    "plt.tight_layout()\n",
    "plt.grid(True)\n",
    "\n",
    "#plt.show()\n",
    "plt.savefig(\"plots/NvsAConfidenceIntervals.png\", dpi=300)"
   ],
   "metadata": {
    "colab": {
     "base_uri": "https://localhost:8080/",
     "height": 601
    },
    "id": "juSSJrimWSbw",
    "executionInfo": {
     "status": "ok",
     "timestamp": 1706552277986,
     "user_tz": -60,
     "elapsed": 1108,
     "user": {
      "displayName": "leonardo cesani",
      "userId": "06996620850007426608"
     }
    },
    "outputId": "8648b7f1-23e0-4feb-ab6f-32ea778a3df2"
   },
   "execution_count": null,
   "outputs": [
    {
     "output_type": "display_data",
     "data": {
      "text/plain": [
       "<Figure size 1000x600 with 1 Axes>"
      ],
      "image/png": "[encoded data removed]"
     },
     "metadata": {}
    }
   ]
  },
  {
   "cell_type": "code",
   "source": [
    "confidence_intervals = [conf_error_N, conf_error_V, conf_error_S, conf_precision_N,\n",
    "                         conf_precision_V, conf_precision_S, conf_recall_N, conf_recall_V, conf_recall_S]\n",
    "labels = ['Error class N', 'Error class V', 'Error class S', 'Precision class N', 'Precision class V',\n",
    "          'Precision class S', 'Recall class N', 'Recall class V', 'Recall class S']\n",
    "\n",
    "# Plot all six intervals in a single plot with labels on the x-axis\n",
    "fig, ax = plt.subplots(figsize=(10, 6))\n",
    "\n",
    "x_positions = range(len(confidence_intervals))\n",
    "for i, (conf_interval, label) in enumerate(zip(confidence_intervals, labels)):\n",
    "    ax.scatter([i], [conf_interval['Mean']], color=colors_palette[0], marker='o')\n",
    "    ax.vlines([i], conf_interval['Inf'], conf_interval['Sup'], color=colors_palette[0], linewidth=2)\n",
    "\n",
    "ax.set_xticks(x_positions)\n",
    "ax.set_xticklabels(labels, rotation=45, ha='right')  # Rotate and adjust the alignment for better visibility\n",
    "ax.set_title('Comprehensive Plot for Confidence Intervals')\n",
    "ax.set_ylabel('Values')\n",
    "plt.tight_layout()\n",
    "plt.grid(True)\n",
    "\n",
    "#plt.show()\n",
    "plt.savefig(\"plots/NvsVvsAConfidenceIntervals.png\", dpi=300)"
   ],
   "metadata": {
    "colab": {
     "base_uri": "https://localhost:8080/",
     "height": 601
    },
    "id": "9QOU0wXPXka9",
    "executionInfo": {
     "status": "ok",
     "timestamp": 1706552497355,
     "user_tz": -60,
     "elapsed": 1215,
     "user": {
      "displayName": "leonardo cesani",
      "userId": "06996620850007426608"
     }
    },
    "outputId": "2752735e-a59c-4651-a77b-e8e46fcd6002"
   },
   "execution_count": null,
   "outputs": [
    {
     "output_type": "display_data",
     "data": {
      "text/plain": [
       "<Figure size 1000x600 with 1 Axes>"
      ],
      "image/png": "[encoded data removed]"
     },
     "metadata": {}
    }
   ]
  },
  {
   "cell_type": "code",
   "source": [],
   "metadata": {
    "id": "oHOC2Ms6cnV0"
   },
   "execution_count": null,
   "outputs": []
  }
 ]
}
