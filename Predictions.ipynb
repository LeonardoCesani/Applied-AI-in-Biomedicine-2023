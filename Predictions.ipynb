{
 "nbformat": 4,
 "nbformat_minor": 0,
 "metadata": {
  "colab": {
   "provenance": [],
   "authorship_tag": "ABX9TyM95qfYsgxLKN9/eDqTUlip"
  },
  "kernelspec": {
   "name": "python3",
   "display_name": "Python 3"
  },
  "language_info": {
   "name": "python"
  }
 },
 "cells": [
  {
   "cell_type": "markdown",
   "source": [
    "# Import Libraries"
   ],
   "metadata": {
    "id": "XxmXQgmOBgxm"
   }
  },
  {
   "cell_type": "code",
   "source": [
    "import numpy as np\n",
    "import tensorflow as tf"
   ],
   "metadata": {
    "id": "A7A3YrJkBawL",
    "executionInfo": {
     "status": "ok",
     "timestamp": 1706612411687,
     "user_tz": -60,
     "elapsed": 5519,
     "user": {
      "displayName": "leonardo cesani",
      "userId": "06996620850007426608"
     }
    }
   },
   "execution_count": 2,
   "outputs": []
  },
  {
   "cell_type": "markdown",
   "source": [
    "# Import Data"
   ],
   "metadata": {
    "id": "cS1QLVpyBxqo"
   }
  },
  {
   "cell_type": "code",
   "source": [
    "# Data from your folder\n",
    "X = np.load('Dataset/X.npy')\n",
    "y = np.load('Dataset/y.npy')\n",
    "features = np.load('Dataset/features.npy')"
   ],
   "metadata": {
    "id": "9Ehm_tSRBldV",
    "executionInfo": {
     "status": "ok",
     "timestamp": 1706612686144,
     "user_tz": -60,
     "elapsed": 1162,
     "user": {
      "displayName": "leonardo cesani",
      "userId": "06996620850007426608"
     }
    }
   },
   "execution_count": 8,
   "outputs": []
  },
  {
   "cell_type": "markdown",
   "source": [
    "# Predictions for \"Normal-Abnormal\" Model"
   ],
   "metadata": {
    "id": "aJviXQ0WB2R4"
   }
  },
  {
   "cell_type": "code",
   "source": [
    "# Import the model (stored in the proper directory)\n",
    "model = tf.keras.models.load_model('./Models/normal_abnormal.keras')"
   ],
   "metadata": {
    "id": "SWaKNFb4Bk_z",
    "executionInfo": {
     "status": "ok",
     "timestamp": 1706612618049,
     "user_tz": -60,
     "elapsed": 45149,
     "user": {
      "displayName": "leonardo cesani",
      "userId": "06996620850007426608"
     }
    }
   },
   "execution_count": 7,
   "outputs": []
  },
  {
   "cell_type": "code",
   "source": [
    "# Perform the predictions.\n",
    "predictions = model.predict([X[:100], features[:100]])"
   ],
   "metadata": {
    "colab": {
     "base_uri": "https://localhost:8080/"
    },
    "id": "Dc8pGhJCCOip",
    "executionInfo": {
     "status": "ok",
     "timestamp": 1706612708672,
     "user_tz": -60,
     "elapsed": 1762,
     "user": {
      "displayName": "leonardo cesani",
      "userId": "06996620850007426608"
     }
    },
    "outputId": "03744ef4-2df9-41cb-c3a1-ba8ccc042dfb"
   },
   "execution_count": 9,
   "outputs": [
    {
     "output_type": "stream",
     "name": "stdout",
     "text": [
      "4/4 [==============================] - 2s 88ms/step\n"
     ]
    }
   ]
  },
  {
   "cell_type": "code",
   "source": [
    "predicted_labels = np.argmax(predictions, axis=-1)\n",
    "labels_dict = {0: 'N', 1: 'A'}\n",
    "labels = [labels_dict[label] for label in predicted_labels]\n",
    "np.array(labels).T"
   ],
   "metadata": {
    "colab": {
     "base_uri": "https://localhost:8080/"
    },
    "id": "VqnOSmnJC0uB",
    "executionInfo": {
     "status": "ok",
     "timestamp": 1706612863668,
     "user_tz": -60,
     "elapsed": 6,
     "user": {
      "displayName": "leonardo cesani",
      "userId": "06996620850007426608"
     }
    },
    "outputId": "368f5b3e-4b3e-4327-c039-9fbbbff06353"
   },
   "execution_count": 17,
   "outputs": [
    {
     "output_type": "execute_result",
     "data": {
      "text/plain": [
       "array(['N', 'N', 'A', 'N', 'N', 'A', 'N', 'N', 'N', 'N', 'N', 'N', 'N',\n",
       "       'N', 'N', 'N', 'N', 'A', 'N', 'N', 'N', 'N', 'N', 'N', 'N', 'N',\n",
       "       'N', 'A', 'N', 'N', 'N', 'N', 'A', 'N', 'N', 'A', 'N', 'N', 'N',\n",
       "       'N', 'N', 'A', 'N', 'N', 'A', 'N', 'N', 'N', 'N', 'N', 'N', 'N',\n",
       "       'N', 'A', 'N', 'N', 'N', 'A', 'N', 'N', 'N', 'N', 'N', 'N', 'N',\n",
       "       'N', 'N', 'N', 'N', 'N', 'N', 'N', 'N', 'N', 'N', 'N', 'N', 'N',\n",
       "       'N', 'N', 'N', 'N', 'N', 'N', 'A', 'N', 'N', 'N', 'N', 'N', 'N',\n",
       "       'A', 'N', 'N', 'A', 'N', 'N', 'N', 'N', 'N'], dtype='<U1')"
      ]
     },
     "metadata": {},
     "execution_count": 17
    }
   ]
  },
  {
   "cell_type": "markdown",
   "source": [
    "# Predictions for the Bagging Model"
   ],
   "metadata": {
    "id": "xPEE8Ey3DcyR"
   }
  },
  {
   "cell_type": "code",
   "source": [
    "# Load all the model\n",
    "models = [tf.keras.models.load_model(f'./Models/Bagging/bagging_model_{i}.keras') for i in range(10) ]"
   ],
   "metadata": {
    "id": "xvQj5CpqC3aJ",
    "executionInfo": {
     "status": "ok",
     "timestamp": 1706613082690,
     "user_tz": -60,
     "elapsed": 97890,
     "user": {
      "displayName": "leonardo cesani",
      "userId": "06996620850007426608"
     }
    }
   },
   "execution_count": 18,
   "outputs": []
  },
  {
   "cell_type": "code",
   "source": [
    "def majority_vote(predictions):\n",
    "    predictions_array = np.array(predictions)\n",
    "    rounded_predictions = np.round(predictions_array).astype(int)\n",
    "    final_predictions = np.apply_along_axis(lambda x: np.bincount(x).argmax(), axis=0, arr=rounded_predictions)\n",
    "\n",
    "    return final_predictions"
   ],
   "metadata": {
    "id": "h1HoWtqyENcx",
    "executionInfo": {
     "status": "ok",
     "timestamp": 1706613988915,
     "user_tz": -60,
     "elapsed": 379,
     "user": {
      "displayName": "leonardo cesani",
      "userId": "06996620850007426608"
     }
    }
   },
   "execution_count": 54,
   "outputs": []
  },
  {
   "cell_type": "code",
   "source": [
    "predictions = [np.array(model.predict([X[:100], features[:100]])) for model in models]\n",
    "final_predictions = [np.argmax(pred) for pred in majority_vote(predictions)]"
   ],
   "metadata": {
    "colab": {
     "base_uri": "https://localhost:8080/"
    },
    "id": "oCe9CZ2DD4lD",
    "executionInfo": {
     "status": "ok",
     "timestamp": 1706614249867,
     "user_tz": -60,
     "elapsed": 4514,
     "user": {
      "displayName": "leonardo cesani",
      "userId": "06996620850007426608"
     }
    },
    "outputId": "75779588-c74e-48aa-f0d0-799231e963e5"
   },
   "execution_count": 67,
   "outputs": [
    {
     "output_type": "stream",
     "name": "stdout",
     "text": [
      "4/4 [==============================] - 0s 73ms/step\n",
      "4/4 [==============================] - 0s 69ms/step\n",
      "4/4 [==============================] - 0s 51ms/step\n",
      "4/4 [==============================] - 0s 43ms/step\n",
      "4/4 [==============================] - 0s 42ms/step\n",
      "4/4 [==============================] - 0s 46ms/step\n",
      "4/4 [==============================] - 0s 44ms/step\n",
      "4/4 [==============================] - 0s 43ms/step\n",
      "4/4 [==============================] - 0s 44ms/step\n",
      "4/4 [==============================] - 0s 49ms/step\n"
     ]
    }
   ]
  },
  {
   "cell_type": "code",
   "source": [
    "labels_dict = {0: 'N', 1: 'V', 2: 'S'}\n",
    "labels = [labels_dict[label] for label in final_predictions]\n",
    "np.array(labels).T"
   ],
   "metadata": {
    "colab": {
     "base_uri": "https://localhost:8080/"
    },
    "id": "cODKh3GYEd1y",
    "executionInfo": {
     "status": "ok",
     "timestamp": 1706614504336,
     "user_tz": -60,
     "elapsed": 4,
     "user": {
      "displayName": "leonardo cesani",
      "userId": "06996620850007426608"
     }
    },
    "outputId": "74c7b98b-0bb6-4d2a-8c02-486a57901013"
   },
   "execution_count": 77,
   "outputs": [
    {
     "output_type": "execute_result",
     "data": {
      "text/plain": [
       "array(['N', 'N', 'S', 'N', 'N', 'S', 'N', 'N', 'S', 'N', 'N', 'N', 'N',\n",
       "       'N', 'N', 'N', 'N', 'V', 'N', 'N', 'N', 'N', 'N', 'N', 'N', 'N',\n",
       "       'N', 'S', 'N', 'N', 'N', 'N', 'V', 'N', 'N', 'S', 'N', 'N', 'V',\n",
       "       'N', 'N', 'S', 'N', 'N', 'S', 'N', 'N', 'N', 'N', 'N', 'N', 'N',\n",
       "       'N', 'S', 'N', 'N', 'N', 'S', 'N', 'N', 'N', 'V', 'N', 'N', 'N',\n",
       "       'N', 'N', 'N', 'N', 'N', 'N', 'N', 'N', 'N', 'N', 'N', 'N', 'N',\n",
       "       'N', 'N', 'N', 'N', 'N', 'N', 'S', 'N', 'N', 'N', 'N', 'N', 'N',\n",
       "       'S', 'N', 'N', 'S', 'N', 'N', 'N', 'N', 'N'], dtype='<U1')"
      ]
     },
     "metadata": {},
     "execution_count": 77
    }
   ]
  }
 ]
}
